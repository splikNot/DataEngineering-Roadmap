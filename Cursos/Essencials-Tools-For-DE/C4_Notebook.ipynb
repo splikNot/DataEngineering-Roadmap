{
 "cells": [
  {
   "cell_type": "markdown",
   "id": "c5c71796-5b6d-4ef9-ab28-d1f77f872e5d",
   "metadata": {
    "id": "c5c71796-5b6d-4ef9-ab28-d1f77f872e5d"
   },
   "source": [
    "## JupyterNotebook"
   ]
  },
  {
   "cell_type": "code",
   "execution_count": null,
   "id": "2004e1fd-9535-4d4a-b467-db9ee1e8b9d9",
   "metadata": {
    "id": "2004e1fd-9535-4d4a-b467-db9ee1e8b9d9"
   },
   "outputs": [],
   "source": [
    "import os"
   ]
  },
  {
   "cell_type": "code",
   "execution_count": null,
   "id": "c5287cf1-3d6b-4363-a970-6b0e80b744cc",
   "metadata": {
    "id": "c5287cf1-3d6b-4363-a970-6b0e80b744cc",
    "outputId": "64bab7aa-c59e-4368-c100-a32f2218afe2"
   },
   "outputs": [
    {
     "data": {
      "text/plain": [
       "['C4_Notebook.ipynb', '.ipynb_checkpoints', 'hello.py']"
      ]
     },
     "execution_count": 2,
     "metadata": {},
     "output_type": "execute_result"
    }
   ],
   "source": [
    "os.listdir()"
   ]
  },
  {
   "cell_type": "code",
   "execution_count": null,
   "id": "6b9360fb-6ad5-4038-8445-b602b3fbfea6",
   "metadata": {
    "id": "6b9360fb-6ad5-4038-8445-b602b3fbfea6"
   },
   "outputs": [],
   "source": [
    "import pandas as pd"
   ]
  },
  {
   "cell_type": "code",
   "execution_count": null,
   "id": "ba281585-59e3-46c8-bcc9-f1132ec42dd0",
   "metadata": {
    "id": "ba281585-59e3-46c8-bcc9-f1132ec42dd0",
    "outputId": "13e51333-a234-4d3f-aa2a-ef9c0dbe55f0"
   },
   "outputs": [
    {
     "data": {
      "text/html": [
       "<div>\n",
       "<style scoped>\n",
       "    .dataframe tbody tr th:only-of-type {\n",
       "        vertical-align: middle;\n",
       "    }\n",
       "\n",
       "    .dataframe tbody tr th {\n",
       "        vertical-align: top;\n",
       "    }\n",
       "\n",
       "    .dataframe thead th {\n",
       "        text-align: right;\n",
       "    }\n",
       "</style>\n",
       "<table border=\"1\" class=\"dataframe\">\n",
       "  <thead>\n",
       "    <tr style=\"text-align: right;\">\n",
       "      <th></th>\n",
       "      <th>Unnamed: 0</th>\n",
       "      <th>name</th>\n",
       "      <th>grape</th>\n",
       "      <th>region</th>\n",
       "      <th>variety</th>\n",
       "      <th>rating</th>\n",
       "      <th>notes</th>\n",
       "    </tr>\n",
       "  </thead>\n",
       "  <tbody>\n",
       "    <tr>\n",
       "      <th>0</th>\n",
       "      <td>0</td>\n",
       "      <td>Laurenz V Charming Gruner Veltliner 2013</td>\n",
       "      <td>NaN</td>\n",
       "      <td>Kamptal, Austria</td>\n",
       "      <td>White Wine</td>\n",
       "      <td>90.0</td>\n",
       "      <td>Aromas of ripe apples and a typical Veltliner ...</td>\n",
       "    </tr>\n",
       "    <tr>\n",
       "      <th>1</th>\n",
       "      <td>1</td>\n",
       "      <td>Laurenz V Charming Gruner Veltliner 2014</td>\n",
       "      <td>NaN</td>\n",
       "      <td>Kamptal, Austria</td>\n",
       "      <td>White Wine</td>\n",
       "      <td>90.0</td>\n",
       "      <td>Aromas of ripe apples and a typical Veltliner ...</td>\n",
       "    </tr>\n",
       "    <tr>\n",
       "      <th>2</th>\n",
       "      <td>2</td>\n",
       "      <td>Laurenz V Singing Gruner Veltliner 2007</td>\n",
       "      <td>NaN</td>\n",
       "      <td>Austria</td>\n",
       "      <td>White Wine</td>\n",
       "      <td>90.0</td>\n",
       "      <td>A very attractive fruit bouquet yields apple, ...</td>\n",
       "    </tr>\n",
       "    <tr>\n",
       "      <th>3</th>\n",
       "      <td>3</td>\n",
       "      <td>Laurenz V Singing Gruner Veltliner 2010</td>\n",
       "      <td>NaN</td>\n",
       "      <td>Austria</td>\n",
       "      <td>White Wine</td>\n",
       "      <td>88.0</td>\n",
       "      <td>A very attractive fruit bouquet yields apple, ...</td>\n",
       "    </tr>\n",
       "    <tr>\n",
       "      <th>4</th>\n",
       "      <td>4</td>\n",
       "      <td>Laurenz V Singing Gruner Veltliner 2011</td>\n",
       "      <td>NaN</td>\n",
       "      <td>Austria</td>\n",
       "      <td>White Wine</td>\n",
       "      <td>88.0</td>\n",
       "      <td>A very attractive fruit bouquet yields apple, ...</td>\n",
       "    </tr>\n",
       "    <tr>\n",
       "      <th>...</th>\n",
       "      <td>...</td>\n",
       "      <td>...</td>\n",
       "      <td>...</td>\n",
       "      <td>...</td>\n",
       "      <td>...</td>\n",
       "      <td>...</td>\n",
       "      <td>...</td>\n",
       "    </tr>\n",
       "    <tr>\n",
       "      <th>775</th>\n",
       "      <td>775</td>\n",
       "      <td>Lewis Cellars Syrah Ethan's Blend 2005</td>\n",
       "      <td>NaN</td>\n",
       "      <td>California</td>\n",
       "      <td>Red Wine</td>\n",
       "      <td>92.0</td>\n",
       "      <td>Now 7 years old, Alec's younger brother Ethan ...</td>\n",
       "    </tr>\n",
       "    <tr>\n",
       "      <th>776</th>\n",
       "      <td>776</td>\n",
       "      <td>Lewis Cellars Syrah Ethan's Blend 2014</td>\n",
       "      <td>NaN</td>\n",
       "      <td>California</td>\n",
       "      <td>Red Wine</td>\n",
       "      <td>93.0</td>\n",
       "      <td>Born in 2000, everything about Ethan and his n...</td>\n",
       "    </tr>\n",
       "    <tr>\n",
       "      <th>777</th>\n",
       "      <td>777</td>\n",
       "      <td>Lewis Cellars Syrah Ethan's Blend 2009</td>\n",
       "      <td>NaN</td>\n",
       "      <td>California</td>\n",
       "      <td>Red Wine</td>\n",
       "      <td>94.0</td>\n",
       "      <td>Positioned between brothers, Alec and Mason, E...</td>\n",
       "    </tr>\n",
       "    <tr>\n",
       "      <th>778</th>\n",
       "      <td>778</td>\n",
       "      <td>Lexington Apex Red 2011</td>\n",
       "      <td>NaN</td>\n",
       "      <td>Santa Cruz Mountains, California</td>\n",
       "      <td>Red Wine</td>\n",
       "      <td>91.0</td>\n",
       "      <td>Blend: 99% Cabernet Sauvignon, 1% Merlot</td>\n",
       "    </tr>\n",
       "    <tr>\n",
       "      <th>779</th>\n",
       "      <td>779</td>\n",
       "      <td>Lexington Gist Ranch Cabernet Sauvignon 2011</td>\n",
       "      <td>NaN</td>\n",
       "      <td>Santa Cruz Mountains, California</td>\n",
       "      <td>Red Wine</td>\n",
       "      <td>91.0</td>\n",
       "      <td>Blend: 80% Cabernet Sauvignon, 20% Merlot</td>\n",
       "    </tr>\n",
       "  </tbody>\n",
       "</table>\n",
       "<p>780 rows × 7 columns</p>\n",
       "</div>"
      ],
      "text/plain": [
       "     Unnamed: 0                                          name  grape  \\\n",
       "0             0      Laurenz V Charming Gruner Veltliner 2013    NaN   \n",
       "1             1      Laurenz V Charming Gruner Veltliner 2014    NaN   \n",
       "2             2       Laurenz V Singing Gruner Veltliner 2007    NaN   \n",
       "3             3       Laurenz V Singing Gruner Veltliner 2010    NaN   \n",
       "4             4       Laurenz V Singing Gruner Veltliner 2011    NaN   \n",
       "..          ...                                           ...    ...   \n",
       "775         775        Lewis Cellars Syrah Ethan's Blend 2005    NaN   \n",
       "776         776        Lewis Cellars Syrah Ethan's Blend 2014    NaN   \n",
       "777         777        Lewis Cellars Syrah Ethan's Blend 2009    NaN   \n",
       "778         778                       Lexington Apex Red 2011    NaN   \n",
       "779         779  Lexington Gist Ranch Cabernet Sauvignon 2011    NaN   \n",
       "\n",
       "                               region     variety  rating  \\\n",
       "0                    Kamptal, Austria  White Wine    90.0   \n",
       "1                    Kamptal, Austria  White Wine    90.0   \n",
       "2                             Austria  White Wine    90.0   \n",
       "3                             Austria  White Wine    88.0   \n",
       "4                             Austria  White Wine    88.0   \n",
       "..                                ...         ...     ...   \n",
       "775                        California    Red Wine    92.0   \n",
       "776                        California    Red Wine    93.0   \n",
       "777                        California    Red Wine    94.0   \n",
       "778  Santa Cruz Mountains, California    Red Wine    91.0   \n",
       "779  Santa Cruz Mountains, California    Red Wine    91.0   \n",
       "\n",
       "                                                 notes  \n",
       "0    Aromas of ripe apples and a typical Veltliner ...  \n",
       "1    Aromas of ripe apples and a typical Veltliner ...  \n",
       "2    A very attractive fruit bouquet yields apple, ...  \n",
       "3    A very attractive fruit bouquet yields apple, ...  \n",
       "4    A very attractive fruit bouquet yields apple, ...  \n",
       "..                                                 ...  \n",
       "775  Now 7 years old, Alec's younger brother Ethan ...  \n",
       "776  Born in 2000, everything about Ethan and his n...  \n",
       "777  Positioned between brothers, Alec and Mason, E...  \n",
       "778          Blend: 99% Cabernet Sauvignon, 1% Merlot   \n",
       "779          Blend: 80% Cabernet Sauvignon, 20% Merlot  \n",
       "\n",
       "[780 rows x 7 columns]"
      ]
     },
     "execution_count": 4,
     "metadata": {},
     "output_type": "execute_result"
    }
   ],
   "source": [
    "df = pd.read_csv(\"/home/raphael/secureWorkspace/ratings.csv\")\n",
    "df"
   ]
  },
  {
   "cell_type": "code",
   "execution_count": null,
   "id": "a0ef4494-f2c7-453a-b246-a2b37435f724",
   "metadata": {
    "id": "a0ef4494-f2c7-453a-b246-a2b37435f724",
    "outputId": "c4ce67ee-678b-4e78-898f-5c6f70a90182"
   },
   "outputs": [
    {
     "name": "stdout",
     "output_type": "stream",
     "text": [
      "C4_Notebook.ipynb  hello.py\n"
     ]
    }
   ],
   "source": [
    "#Eu não sabia. Os comandos iniciados por ! serão executados em bash\n",
    "!ls"
   ]
  },
  {
   "cell_type": "markdown",
   "id": "ffb8e8f1-ac0f-447a-abc1-2fb6aff9606a",
   "metadata": {
    "id": "ffb8e8f1-ac0f-447a-abc1-2fb6aff9606a"
   },
   "source": [
    "### Magics"
   ]
  },
  {
   "cell_type": "code",
   "execution_count": null,
   "id": "51f06a2a-34ed-417a-9a0a-f15bca4631b3",
   "metadata": {
    "id": "51f06a2a-34ed-417a-9a0a-f15bca4631b3",
    "outputId": "87f673c2-75b4-459b-bf22-9db3d2b58b3f"
   },
   "outputs": [
    {
     "data": {
      "application/json": {
       "cell": {
        "!": "OSMagics",
        "HTML": "Other",
        "SVG": "Other",
        "bash": "Other",
        "capture": "ExecutionMagics",
        "code_wrap": "ExecutionMagics",
        "debug": "ExecutionMagics",
        "file": "Other",
        "html": "DisplayMagics",
        "javascript": "DisplayMagics",
        "js": "DisplayMagics",
        "latex": "DisplayMagics",
        "markdown": "DisplayMagics",
        "perl": "Other",
        "prun": "ExecutionMagics",
        "pypy": "Other",
        "python": "Other",
        "python2": "Other",
        "python3": "Other",
        "ruby": "Other",
        "script": "ScriptMagics",
        "sh": "Other",
        "svg": "DisplayMagics",
        "sx": "OSMagics",
        "system": "OSMagics",
        "time": "ExecutionMagics",
        "timeit": "ExecutionMagics",
        "writefile": "OSMagics"
       },
       "line": {
        "alias": "OSMagics",
        "alias_magic": "BasicMagics",
        "autoawait": "AsyncMagics",
        "autocall": "AutoMagics",
        "automagic": "AutoMagics",
        "autosave": "KernelMagics",
        "bookmark": "OSMagics",
        "cat": "Other",
        "cd": "OSMagics",
        "clear": "KernelMagics",
        "code_wrap": "ExecutionMagics",
        "colors": "BasicMagics",
        "conda": "PackagingMagics",
        "config": "ConfigMagics",
        "connect_info": "KernelMagics",
        "cp": "Other",
        "debug": "ExecutionMagics",
        "dhist": "OSMagics",
        "dirs": "OSMagics",
        "doctest_mode": "BasicMagics",
        "ed": "Other",
        "edit": "KernelMagics",
        "env": "OSMagics",
        "gui": "BasicMagics",
        "hist": "Other",
        "history": "HistoryMagics",
        "killbgscripts": "ScriptMagics",
        "ldir": "Other",
        "less": "KernelMagics",
        "lf": "Other",
        "lk": "Other",
        "ll": "Other",
        "load": "CodeMagics",
        "load_ext": "ExtensionMagics",
        "loadpy": "CodeMagics",
        "logoff": "LoggingMagics",
        "logon": "LoggingMagics",
        "logstart": "LoggingMagics",
        "logstate": "LoggingMagics",
        "logstop": "LoggingMagics",
        "ls": "Other",
        "lsmagic": "BasicMagics",
        "lx": "Other",
        "macro": "ExecutionMagics",
        "magic": "BasicMagics",
        "mamba": "PackagingMagics",
        "man": "KernelMagics",
        "matplotlib": "PylabMagics",
        "micromamba": "PackagingMagics",
        "mkdir": "Other",
        "more": "KernelMagics",
        "mv": "Other",
        "notebook": "BasicMagics",
        "page": "BasicMagics",
        "pastebin": "CodeMagics",
        "pdb": "ExecutionMagics",
        "pdef": "NamespaceMagics",
        "pdoc": "NamespaceMagics",
        "pfile": "NamespaceMagics",
        "pinfo": "NamespaceMagics",
        "pinfo2": "NamespaceMagics",
        "pip": "PackagingMagics",
        "popd": "OSMagics",
        "pprint": "BasicMagics",
        "precision": "BasicMagics",
        "prun": "ExecutionMagics",
        "psearch": "NamespaceMagics",
        "psource": "NamespaceMagics",
        "pushd": "OSMagics",
        "pwd": "OSMagics",
        "pycat": "OSMagics",
        "pylab": "PylabMagics",
        "qtconsole": "KernelMagics",
        "quickref": "BasicMagics",
        "recall": "HistoryMagics",
        "rehashx": "OSMagics",
        "reload_ext": "ExtensionMagics",
        "rep": "Other",
        "rerun": "HistoryMagics",
        "reset": "NamespaceMagics",
        "reset_selective": "NamespaceMagics",
        "rm": "Other",
        "rmdir": "Other",
        "run": "ExecutionMagics",
        "save": "CodeMagics",
        "sc": "OSMagics",
        "set_env": "OSMagics",
        "store": "StoreMagics",
        "sx": "OSMagics",
        "system": "OSMagics",
        "tb": "ExecutionMagics",
        "time": "ExecutionMagics",
        "timeit": "ExecutionMagics",
        "unalias": "OSMagics",
        "unload_ext": "ExtensionMagics",
        "uv": "PackagingMagics",
        "who": "NamespaceMagics",
        "who_ls": "NamespaceMagics",
        "whos": "NamespaceMagics",
        "xdel": "NamespaceMagics",
        "xmode": "BasicMagics"
       }
      },
      "text/plain": [
       "Available line magics:\n",
       "%alias  %alias_magic  %autoawait  %autocall  %automagic  %autosave  %bookmark  %cat  %cd  %clear  %code_wrap  %colors  %conda  %config  %connect_info  %cp  %debug  %dhist  %dirs  %doctest_mode  %ed  %edit  %env  %gui  %hist  %history  %killbgscripts  %ldir  %less  %lf  %lk  %ll  %load  %load_ext  %loadpy  %logoff  %logon  %logstart  %logstate  %logstop  %ls  %lsmagic  %lx  %macro  %magic  %mamba  %man  %matplotlib  %micromamba  %mkdir  %more  %mv  %notebook  %page  %pastebin  %pdb  %pdef  %pdoc  %pfile  %pinfo  %pinfo2  %pip  %popd  %pprint  %precision  %prun  %psearch  %psource  %pushd  %pwd  %pycat  %pylab  %qtconsole  %quickref  %recall  %rehashx  %reload_ext  %rep  %rerun  %reset  %reset_selective  %rm  %rmdir  %run  %save  %sc  %set_env  %store  %sx  %system  %tb  %time  %timeit  %unalias  %unload_ext  %uv  %who  %who_ls  %whos  %xdel  %xmode\n",
       "\n",
       "Available cell magics:\n",
       "%%!  %%HTML  %%SVG  %%bash  %%capture  %%code_wrap  %%debug  %%file  %%html  %%javascript  %%js  %%latex  %%markdown  %%perl  %%prun  %%pypy  %%python  %%python2  %%python3  %%ruby  %%script  %%sh  %%svg  %%sx  %%system  %%time  %%timeit  %%writefile\n",
       "\n",
       "Automagic is ON, % prefix IS NOT needed for line magics."
      ]
     },
     "execution_count": 6,
     "metadata": {},
     "output_type": "execute_result"
    }
   ],
   "source": [
    "# Listar Magics\n",
    "%lsmagic"
   ]
  },
  {
   "cell_type": "code",
   "execution_count": null,
   "id": "a5efa90f-2435-42ab-bf08-3314d9a5506a",
   "metadata": {
    "id": "a5efa90f-2435-42ab-bf08-3314d9a5506a",
    "outputId": "3df22af6-0b47-4c77-fe6b-53abb8e28876"
   },
   "outputs": [
    {
     "name": "stdout",
     "output_type": "stream",
     "text": [
      "53.1 μs ± 4.24 μs per loop (mean ± std. dev. of 7 runs, 10,000 loops each)\n"
     ]
    }
   ],
   "source": [
    "# Contar o tempo de execução\n",
    "%timeit [x for x in range(2000)]"
   ]
  },
  {
   "cell_type": "code",
   "execution_count": null,
   "id": "5fc547a5-c9af-4903-bc35-6565c66a17ab",
   "metadata": {
    "id": "5fc547a5-c9af-4903-bc35-6565c66a17ab",
    "outputId": "68074b7d-edd2-4b52-c9bf-1b5364864b19"
   },
   "outputs": [
    {
     "name": "stdout",
     "output_type": "stream",
     "text": [
      "Overwriting hello.py\n"
     ]
    }
   ],
   "source": [
    "%%writefile hello.py\n",
    "# Escrever um arquivo no sistema\n",
    "def say_hello():\n",
    "    print('hello')\n",
    "\n",
    "say_hello()"
   ]
  },
  {
   "cell_type": "code",
   "execution_count": null,
   "id": "4ff7b484-c26d-4873-8a35-6d3da8e6aa16",
   "metadata": {
    "id": "4ff7b484-c26d-4873-8a35-6d3da8e6aa16",
    "outputId": "fe5dbcc9-9151-4d84-f3f8-bbba467595ce"
   },
   "outputs": [
    {
     "name": "stdout",
     "output_type": "stream",
     "text": [
      "hello\n"
     ]
    }
   ],
   "source": [
    "# Executa um arquivo\n",
    "%run hello.py"
   ]
  },
  {
   "cell_type": "code",
   "execution_count": null,
   "id": "1c8a8c2a-3fc4-4698-8a39-9b21b0bb18f0",
   "metadata": {
    "id": "1c8a8c2a-3fc4-4698-8a39-9b21b0bb18f0",
    "outputId": "9f1d7a1f-0e9e-4392-b3ab-533355eb0fc5"
   },
   "outputs": [
    {
     "name": "stdout",
     "output_type": "stream",
     "text": [
      "hello\n"
     ]
    }
   ],
   "source": [
    "# Carrega um arquivo (depois de executado é normal aparece '#'\n",
    "\n",
    "# %load hello.py\n",
    "\n",
    "def say_hello():\n",
    "    print('hello')\n",
    "\n",
    "say_hello()\n"
   ]
  },
  {
   "cell_type": "code",
   "execution_count": null,
   "id": "1a2c48fb-0ea2-4a3a-bc0b-3b82407490a1",
   "metadata": {
    "id": "1a2c48fb-0ea2-4a3a-bc0b-3b82407490a1",
    "outputId": "d1da2119-85c6-4786-d088-ae99d9797744"
   },
   "outputs": [
    {
     "name": "stdout",
     "output_type": "stream",
     "text": [
      "hello\n"
     ]
    }
   ],
   "source": [
    "say_hello()"
   ]
  },
  {
   "cell_type": "code",
   "execution_count": null,
   "id": "9417d18d-6cfe-408b-a745-2301936df620",
   "metadata": {
    "id": "9417d18d-6cfe-408b-a745-2301936df620",
    "outputId": "42b15216-2d71-45d0-c639-936762983434"
   },
   "outputs": [
    {
     "data": {
      "text/plain": [
       "{'SHELL': '/bin/bash',\n",
       " 'WINDOWID': '65011725',\n",
       " 'QT_ACCESSIBILITY': '1',\n",
       " 'COLORTERM': 'truecolor',\n",
       " 'XDG_CONFIG_DIRS': '/home/raphael/.config/kdedefaults:/etc/xdg/xdg-plasma:/etc/xdg:/usr/share/kubuntu-default-settings/kf5-settings',\n",
       " 'XDG_SESSION_PATH': '/org/freedesktop/DisplayManager/Session0',\n",
       " 'GTK_IM_MODULE': 'fcitx',\n",
       " 'LANGUAGE': '',\n",
       " 'LC_ADDRESS': 'pt_BR.UTF-8',\n",
       " 'LC_NAME': 'pt_BR.UTF-8',\n",
       " 'SSH_AUTH_SOCK': '/tmp/ssh-1j2Jl29kXb7r/agent.1906',\n",
       " 'SHELL_SESSION_ID': 'e4279945b6b844ffaa10a4e2daac7051',\n",
       " 'MEMORY_PRESSURE_WRITE': 'c29tZSAyMDAwMDAgMjAwMDAwMAA=',\n",
       " 'XMODIFIERS': '@im=fcitx',\n",
       " 'DESKTOP_SESSION': 'plasma',\n",
       " 'LC_MONETARY': 'pt_BR.UTF-8',\n",
       " 'SSH_AGENT_PID': '2010',\n",
       " 'GTK_RC_FILES': '/etc/gtk/gtkrc:/home/raphael/.gtkrc:/home/raphael/.config/gtkrc',\n",
       " 'XCURSOR_SIZE': '24',\n",
       " 'XDG_SEAT': 'seat0',\n",
       " 'PWD': '/home/raphael',\n",
       " 'XDG_SESSION_DESKTOP': 'KDE',\n",
       " 'LOGNAME': 'raphael',\n",
       " 'XDG_SESSION_TYPE': 'x11',\n",
       " 'GPG_AGENT_INFO': '/run/user/1000/gnupg/S.gpg-agent:0:1',\n",
       " 'SYSTEMD_EXEC_PID': '2157',\n",
       " 'XAUTHORITY': '/tmp/xauth_Vhqojp',\n",
       " 'GTK2_RC_FILES': '/etc/gtk-2.0/gtkrc:/home/raphael/.gtkrc-2.0:/home/raphael/.config/gtkrc-2.0',\n",
       " 'HOME': '/home/raphael',\n",
       " 'IM_CONFIG_PHASE': '1',\n",
       " 'SSH_ASKPASS': '/usr/bin/ksshaskpass',\n",
       " 'LC_PAPER': 'pt_BR.UTF-8',\n",
       " 'LANG': 'en_US.UTF-8',\n",
       " 'LS_COLORS': 'rs=0:di=01;34:ln=01;36:mh=00:pi=40;33:so=01;35:do=01;35:bd=40;33;01:cd=40;33;01:or=40;31;01:mi=00:su=37;41:sg=30;43:ca=00:tw=30;42:ow=34;42:st=37;44:ex=01;32:*.tar=01;31:*.tgz=01;31:*.arc=01;31:*.arj=01;31:*.taz=01;31:*.lha=01;31:*.lz4=01;31:*.lzh=01;31:*.lzma=01;31:*.tlz=01;31:*.txz=01;31:*.tzo=01;31:*.t7z=01;31:*.zip=01;31:*.z=01;31:*.dz=01;31:*.gz=01;31:*.lrz=01;31:*.lz=01;31:*.lzo=01;31:*.xz=01;31:*.zst=01;31:*.tzst=01;31:*.bz2=01;31:*.bz=01;31:*.tbz=01;31:*.tbz2=01;31:*.tz=01;31:*.deb=01;31:*.rpm=01;31:*.jar=01;31:*.war=01;31:*.ear=01;31:*.sar=01;31:*.rar=01;31:*.alz=01;31:*.ace=01;31:*.zoo=01;31:*.cpio=01;31:*.7z=01;31:*.rz=01;31:*.cab=01;31:*.wim=01;31:*.swm=01;31:*.dwm=01;31:*.esd=01;31:*.avif=01;35:*.jpg=01;35:*.jpeg=01;35:*.mjpg=01;35:*.mjpeg=01;35:*.gif=01;35:*.bmp=01;35:*.pbm=01;35:*.pgm=01;35:*.ppm=01;35:*.tga=01;35:*.xbm=01;35:*.xpm=01;35:*.tif=01;35:*.tiff=01;35:*.png=01;35:*.svg=01;35:*.svgz=01;35:*.mng=01;35:*.pcx=01;35:*.mov=01;35:*.mpg=01;35:*.mpeg=01;35:*.m2v=01;35:*.mkv=01;35:*.webm=01;35:*.webp=01;35:*.ogm=01;35:*.mp4=01;35:*.m4v=01;35:*.mp4v=01;35:*.vob=01;35:*.qt=01;35:*.nuv=01;35:*.wmv=01;35:*.asf=01;35:*.rm=01;35:*.rmvb=01;35:*.flc=01;35:*.avi=01;35:*.fli=01;35:*.flv=01;35:*.gl=01;35:*.dl=01;35:*.xcf=01;35:*.xwd=01;35:*.yuv=01;35:*.cgm=01;35:*.emf=01;35:*.ogv=01;35:*.ogx=01;35:*.aac=00;36:*.au=00;36:*.flac=00;36:*.m4a=00;36:*.mid=00;36:*.midi=00;36:*.mka=00;36:*.mp3=00;36:*.mpc=00;36:*.ogg=00;36:*.ra=00;36:*.wav=00;36:*.oga=00;36:*.opus=00;36:*.spx=00;36:*.xspf=00;36:*~=00;90:*#=00;90:*.bak=00;90:*.crdownload=00;90:*.dpkg-dist=00;90:*.dpkg-new=00;90:*.dpkg-old=00;90:*.dpkg-tmp=00;90:*.old=00;90:*.orig=00;90:*.part=00;90:*.rej=00;90:*.rpmnew=00;90:*.rpmorig=00;90:*.rpmsave=00;90:*.swp=00;90:*.tmp=00;90:*.ucf-dist=00;90:*.ucf-new=00;90:*.ucf-old=00;90:',\n",
       " 'XDG_CURRENT_DESKTOP': 'KDE',\n",
       " 'KONSOLE_DBUS_SERVICE': ':1.252',\n",
       " 'VIRTUAL_ENV': '/home/raphael/jupyterEnv',\n",
       " 'MEMORY_PRESSURE_WATCH': '/sys/fs/cgroup/user.slice/user-1000.slice/user@1000.service/background.slice/plasma-kglobalaccel.service/memory.pressure',\n",
       " 'KONSOLE_DBUS_SESSION': '/Sessions/1',\n",
       " 'PROFILEHOME': '',\n",
       " 'XDG_SEAT_PATH': '/org/freedesktop/DisplayManager/Seat0',\n",
       " 'QTWEBENGINE_DICTIONARIES_PATH': '/usr/share/hunspell-bdic/',\n",
       " 'INVOCATION_ID': '6e58caaef3cc4d8b8bc29faa776d48ec',\n",
       " 'KONSOLE_VERSION': '230805',\n",
       " 'MANAGERPID': '1895',\n",
       " 'CLUTTER_IM_MODULE': 'xim',\n",
       " 'KDE_SESSION_UID': '1000',\n",
       " 'SDL_IM_MODULE': 'fcitx',\n",
       " 'LESSCLOSE': '/usr/bin/lesspipe %s %s',\n",
       " 'XDG_SESSION_CLASS': 'user',\n",
       " 'TERM': 'xterm-color',\n",
       " 'LC_IDENTIFICATION': 'pt_BR.UTF-8',\n",
       " 'LESSOPEN': '| /usr/bin/lesspipe %s',\n",
       " 'LIBVIRT_DEFAULT_URI': 'qemu:///system',\n",
       " 'USER': 'raphael',\n",
       " 'COLORFGBG': '15;0',\n",
       " 'KDE_SESSION_VERSION': '5',\n",
       " 'DISPLAY': ':0',\n",
       " 'SHLVL': '1',\n",
       " 'GSM_SKIP_SSH_AGENT_WORKAROUND': 'true',\n",
       " 'LC_TELEPHONE': 'pt_BR.UTF-8',\n",
       " 'QT_IM_MODULE': 'fcitx',\n",
       " 'LC_MEASUREMENT': 'pt_BR.UTF-8',\n",
       " 'XDG_VTNR': '2',\n",
       " 'XDG_SESSION_ID': '2',\n",
       " 'VIRTUAL_ENV_PROMPT': '(jupyterEnv) ',\n",
       " 'LC_CTYPE': 'pt_BR.UTF-8',\n",
       " 'XDG_RUNTIME_DIR': '/run/user/1000',\n",
       " 'PS1': '(jupyterEnv) \\\\[\\\\e]0;\\\\u@\\\\h: \\\\w\\\\a\\\\]${debian_chroot:+($debian_chroot)}\\\\[\\\\033[01;32m\\\\]\\\\u@\\\\h\\\\[\\\\033[00m\\\\]:\\\\[\\\\033[01;34m\\\\]\\\\w\\\\[\\\\033[00m\\\\]\\\\$ ',\n",
       " 'DEBUGINFOD_URLS': 'https://debuginfod.ubuntu.com ',\n",
       " 'LC_TIME': 'pt_BR.UTF-8',\n",
       " 'QT_AUTO_SCREEN_SCALE_FACTOR': '0',\n",
       " 'JOURNAL_STREAM': '8:14260',\n",
       " 'XCURSOR_THEME': 'breeze_cursors',\n",
       " 'XDG_DATA_DIRS': '/usr/share/plasma:/usr/local/share:/usr/share:/var/lib/snapd/desktop',\n",
       " 'KDE_FULL_SESSION': 'true',\n",
       " 'PATH': '/home/raphael/jupyterEnv/bin:/usr/local/sbin:/usr/local/bin:/usr/sbin:/usr/bin:/sbin:/bin:/usr/games:/usr/local/games:/snap/bin',\n",
       " 'DBUS_SESSION_BUS_ADDRESS': 'unix:path=/run/user/1000/bus',\n",
       " 'KDE_APPLICATIONS_AS_SCOPE': '1',\n",
       " 'LC_NUMERIC': 'pt_BR.UTF-8',\n",
       " 'KONSOLE_DBUS_WINDOW': '/Windows/1',\n",
       " '_': '/home/raphael/jupyterEnv/bin/jupyter',\n",
       " 'JPY_SESSION_NAME': '/home/raphael/Documents/C4-webapps_and_cli_tools/C4_Notebook.ipynb',\n",
       " 'JPY_PARENT_PID': '11430',\n",
       " 'PYDEVD_USE_FRAME_EVAL': 'NO',\n",
       " 'CLICOLOR': '1',\n",
       " 'FORCE_COLOR': '1',\n",
       " 'CLICOLOR_FORCE': '1',\n",
       " 'PAGER': 'cat',\n",
       " 'GIT_PAGER': 'cat',\n",
       " 'MPLBACKEND': 'module://matplotlib_inline.backend_inline'}"
      ]
     },
     "execution_count": 12,
     "metadata": {},
     "output_type": "execute_result"
    }
   ],
   "source": [
    "%env"
   ]
  },
  {
   "cell_type": "code",
   "execution_count": null,
   "id": "614bd42e-2a3a-4390-b4e1-27bdd37d640f",
   "metadata": {
    "id": "614bd42e-2a3a-4390-b4e1-27bdd37d640f",
    "outputId": "16d19bb9-1e49-45a4-acf3-6b4d76ce1bbb"
   },
   "outputs": [
    {
     "name": "stdout",
     "output_type": "stream",
     "text": [
      "env: USER_KEY=1234\n"
     ]
    }
   ],
   "source": [
    "\n",
    "%env USER_KEY=1234"
   ]
  },
  {
   "cell_type": "code",
   "execution_count": null,
   "id": "f4c0458c-b2ae-45af-9602-1cbd0b231086",
   "metadata": {
    "id": "f4c0458c-b2ae-45af-9602-1cbd0b231086",
    "outputId": "9304e735-88c6-446f-fe7d-aa566a2e4dc0"
   },
   "outputs": [
    {
     "data": {
      "text/plain": [
       "'1234'"
      ]
     },
     "execution_count": 14,
     "metadata": {},
     "output_type": "execute_result"
    }
   ],
   "source": [
    "%env USER_KEY"
   ]
  },
  {
   "cell_type": "code",
   "execution_count": null,
   "id": "f2ed2df8-1602-48bd-87c1-20a3548fc910",
   "metadata": {
    "id": "f2ed2df8-1602-48bd-87c1-20a3548fc910",
    "outputId": "1c88911a-3263-4984-d8d2-df8b0bc923dc"
   },
   "outputs": [
    {
     "name": "stdout",
     "output_type": "stream",
     "text": [
      "Couldn't find program: 'ruby'\n"
     ]
    }
   ],
   "source": [
    "%%script ruby\n",
    "#Executar em outras linguagens\n",
    "puts('Ruby says hello')"
   ]
  },
  {
   "cell_type": "code",
   "execution_count": null,
   "id": "b339269f-cdb1-41a9-af2a-288f2d85bc84",
   "metadata": {
    "id": "b339269f-cdb1-41a9-af2a-288f2d85bc84",
    "outputId": "a01c6fa9-d03d-47e9-a4e0-d71c0424434b"
   },
   "outputs": [
    {
     "name": "stdout",
     "output_type": "stream",
     "text": [
      "import os\n",
      "os.listdir()\n",
      "import pandas as pd\n",
      "df = pd.read_csv(\"/home/raphael/secureWorkspace/ratings.csv\")\n",
      "df\n",
      "#Eu não sabia. Os comandos iniciados por ! serão executados em bash\n",
      "!ls\n",
      "# Listar Magics\n",
      "%lsmagic\n",
      "# Contar o tempo de execução\n",
      "%timeit [x for x in range(2000)]\n",
      "%%writefile hello.py\n",
      "# Escrever um arquivo no sistema\n",
      "def say_hello():\n",
      "    print('hello')\n",
      "\n",
      "say_hello()\n",
      "# Executa um arquivo\n",
      "%run hello.py\n",
      "# Carrega um arquivo (depois de executado é normal aparece '#'\n",
      "\n",
      "# %load hello.py\n",
      "\n",
      "def say_hello():\n",
      "    print('hello')\n",
      "\n",
      "say_hello()\n",
      "say_hello()\n",
      "%env\n",
      "\n",
      "%env USER_KEY=1234\n",
      "%env USER_KEY\n",
      "%%script ruby\n",
      "#Executar em outras linguagens\n",
      "puts('Ruby says hello')\n",
      "%history\n"
     ]
    }
   ],
   "source": [
    "%history"
   ]
  },
  {
   "cell_type": "code",
   "execution_count": null,
   "id": "75f5db0d-7e38-4333-93ee-e6fa38b6e90b",
   "metadata": {
    "id": "75f5db0d-7e38-4333-93ee-e6fa38b6e90b"
   },
   "outputs": [],
   "source": [
    "##Contextual help é uma ferramenta importante. USE\n",
    "##Debugger tbm"
   ]
  },
  {
   "cell_type": "markdown",
   "id": "b85326e6-b7dc-4468-9b7e-59b6989efceb",
   "metadata": {
    "id": "b85326e6-b7dc-4468-9b7e-59b6989efceb"
   },
   "source": [
    "## Colab Notebook"
   ]
  },
  {
   "cell_type": "code",
   "execution_count": null,
   "id": "b90e863b-408e-44c1-aeb7-e0d25fd2bbe6",
   "metadata": {
    "id": "b90e863b-408e-44c1-aeb7-e0d25fd2bbe6"
   },
   "outputs": [],
   "source": [
    "# O Google Colab é um notebook, assim como o jupyter. Só que o colab é armazenado em uma máquina virtual ao invés do host ser sua máquina."
   ]
  },
  {
   "cell_type": "code",
   "execution_count": null,
   "id": "Fzq5N4r2P3oK",
   "metadata": {
    "colab": {
     "base_uri": "https://localhost:8080/"
    },
    "id": "Fzq5N4r2P3oK",
    "outputId": "1c4068f4-c172-4984-9a21-257481c1b5a3"
   },
   "outputs": [
    {
     "name": "stdout",
     "output_type": "stream",
     "text": [
      "Mounted at /content/drive\n"
     ]
    }
   ],
   "source": [
    "#Conectando o colab junto ao doogle drive\n",
    "\n",
    "from google.colab import drive\n",
    "drive.mount('/content/drive')"
   ]
  },
  {
   "cell_type": "code",
   "execution_count": null,
   "id": "TaVPS6wMQMNG",
   "metadata": {
    "id": "TaVPS6wMQMNG"
   },
   "outputs": [],
   "source": []
  },
  {
   "cell_type": "code",
   "execution_count": null,
   "id": "e9xzxcW_Q-Kk",
   "metadata": {
    "id": "e9xzxcW_Q-Kk"
   },
   "outputs": [],
   "source": []
  }
 ],
 "metadata": {
  "colab": {
   "provenance": []
  },
  "kernelspec": {
   "display_name": "Python 3 (ipykernel)",
   "language": "python",
   "name": "python3"
  },
  "language_info": {
   "codemirror_mode": {
    "name": "ipython",
    "version": 3
   },
   "file_extension": ".py",
   "mimetype": "text/x-python",
   "name": "python",
   "nbconvert_exporter": "python",
   "pygments_lexer": "ipython3",
   "version": "3.10.12"
  }
 },
 "nbformat": 4,
 "nbformat_minor": 5
}
